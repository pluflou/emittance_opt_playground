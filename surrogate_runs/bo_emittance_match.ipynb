{
 "cells": [
  {
   "cell_type": "markdown",
   "id": "b80da3d7-0d2a-415d-8c64-6ddae0ef5def",
   "metadata": {},
   "source": [
    "# BO optimization of emittance and match"
   ]
  },
  {
   "cell_type": "code",
   "execution_count": 1,
   "id": "fed2fc65-097c-4562-ac87-a7c8b8b3bc3c",
   "metadata": {},
   "outputs": [
    {
     "name": "stdout",
     "output_type": "stream",
     "text": [
      "/sdf/home/s/smiskov/emittance_opt_playground\n"
     ]
    }
   ],
   "source": [
    "import numpy as np\n",
    "\n",
    "# import lcls model from dir above\n",
    "%cd ../\n",
    "from optimizer_class import Opt"
   ]
  },
  {
   "cell_type": "code",
   "execution_count": 2,
   "id": "fdf4beb4-831d-41a4-baa4-dd0637140579",
   "metadata": {},
   "outputs": [
    {
     "name": "stdout",
     "output_type": "stream",
     "text": [
      "Add noise:  False\n"
     ]
    }
   ],
   "source": [
    "optimize = Opt()\n",
    "# to save output in this folder\n",
    "optimize.save_dir = \"surrogate_runs\"\n",
    "# set random seed for inital points\n",
    "optimize.seed = 5\n",
    "# don't save runs\n",
    "optimize.save_data = False"
   ]
  },
  {
   "cell_type": "code",
   "execution_count": 3,
   "id": "25fde37f-d52f-408e-a41c-667ed86b1e89",
   "metadata": {},
   "outputs": [
    {
     "name": "stdout",
     "output_type": "stream",
     "text": [
      "Run BO (out of the box)\n",
      "\n",
      "|   iter    |  target   |   var1    |   var2    |   var3    |   var4    |   var5    |   varx    |   vary    |   varz    |\n",
      "-------------------------------------------------------------------------------------------------------------------------\n",
      "| \u001b[0m 1       \u001b[0m | \u001b[0m-5.319   \u001b[0m | \u001b[0m-3.459   \u001b[0m | \u001b[0m 1.058   \u001b[0m | \u001b[0m-4.221   \u001b[0m | \u001b[0m 4.799   \u001b[0m | \u001b[0m 2.362   \u001b[0m | \u001b[0m 0.4721  \u001b[0m | \u001b[0m-0.01949 \u001b[0m | \u001b[0m-0.000505\u001b[0m |\n",
      "| \u001b[0m 2       \u001b[0m | \u001b[0m-48.09   \u001b[0m | \u001b[0m-1.175   \u001b[0m | \u001b[0m 3.552   \u001b[0m | \u001b[0m-2.62    \u001b[0m | \u001b[0m-0.1301  \u001b[0m | \u001b[0m 6.151   \u001b[0m | \u001b[0m 0.4814  \u001b[0m | \u001b[0m-0.0134  \u001b[0m | \u001b[0m 0.005293\u001b[0m |\n",
      "| \u001b[0m 3       \u001b[0m | \u001b[0m-38.39   \u001b[0m | \u001b[0m-3.939   \u001b[0m | \u001b[0m 1.35    \u001b[0m | \u001b[0m-5.102   \u001b[0m | \u001b[0m 0.2633  \u001b[0m | \u001b[0m 5.072   \u001b[0m | \u001b[0m 0.4805  \u001b[0m | \u001b[0m-0.006215\u001b[0m | \u001b[0m-0.007248\u001b[0m |\n",
      "| \u001b[0m 4       \u001b[0m | \u001b[0m-5.939   \u001b[0m | \u001b[0m-3.46    \u001b[0m | \u001b[0m 1.055   \u001b[0m | \u001b[0m-4.219   \u001b[0m | \u001b[0m 4.822   \u001b[0m | \u001b[0m 2.348   \u001b[0m | \u001b[0m 0.4721  \u001b[0m | \u001b[0m-0.01954 \u001b[0m | \u001b[0m-0.000486\u001b[0m |\n",
      "| \u001b[95m 5       \u001b[0m | \u001b[95m-1.362   \u001b[0m | \u001b[95m-3.449   \u001b[0m | \u001b[95m 1.12    \u001b[0m | \u001b[95m-4.247   \u001b[0m | \u001b[95m 4.433   \u001b[0m | \u001b[95m 2.595   \u001b[0m | \u001b[95m 0.4728  \u001b[0m | \u001b[95m-0.01856 \u001b[0m | \u001b[95m-0.000821\u001b[0m |\n",
      "| \u001b[0m 6       \u001b[0m | \u001b[0m-1.615   \u001b[0m | \u001b[0m-3.451   \u001b[0m | \u001b[0m 1.109   \u001b[0m | \u001b[0m-4.243   \u001b[0m | \u001b[0m 4.499   \u001b[0m | \u001b[0m 2.553   \u001b[0m | \u001b[0m 0.4727  \u001b[0m | \u001b[0m-0.01873 \u001b[0m | \u001b[0m-0.000770\u001b[0m |\n",
      "| \u001b[95m 7       \u001b[0m | \u001b[95m-1.182   \u001b[0m | \u001b[95m-3.447   \u001b[0m | \u001b[95m 1.147   \u001b[0m | \u001b[95m-4.263   \u001b[0m | \u001b[95m 4.261   \u001b[0m | \u001b[95m 2.704   \u001b[0m | \u001b[95m 0.4737  \u001b[0m | \u001b[95m-0.01823 \u001b[0m | \u001b[95m-0.000616\u001b[0m |\n",
      "| \u001b[0m 8       \u001b[0m | \u001b[0m-1.545   \u001b[0m | \u001b[0m-3.429   \u001b[0m | \u001b[0m 1.152   \u001b[0m | \u001b[0m-4.24    \u001b[0m | \u001b[0m 4.31    \u001b[0m | \u001b[0m 2.679   \u001b[0m | \u001b[0m 0.4695  \u001b[0m | \u001b[0m-0.01762 \u001b[0m | \u001b[0m-0.002985\u001b[0m |\n",
      "=========================================================================================================================\n"
     ]
    }
   ],
   "source": [
    "print(f\"Run BO (out of the box)\\n\")\n",
    "\n",
    "optimize.run_bo_opt(init_pnts=3, n_iter=5); # (maximizing -1 * emittance)"
   ]
  },
  {
   "cell_type": "code",
   "execution_count": 4,
   "id": "c7047c33-d7be-431f-982a-27b426443131",
   "metadata": {},
   "outputs": [
    {
     "name": "stdout",
     "output_type": "stream",
     "text": [
      "Run BO with rejection (skipping) of emittances with error greater than 25.0% and NaNs\n",
      "\n",
      "\u001b[30miter 0 | target 7.058 | config  0.465550 0.014829 -0.011731 -1.244167 2.465234 -3.329537 5.127263 3.147344\u001b[0m\n",
      "\u001b[95miter 1 | target 5.116 | config  0.467420 -0.012491 -0.016770 -1.784679 2.323928 -6.050141 6.039496 1.192692\u001b[0m\n",
      "\u001b[95miter 2 | target 3.563 | config  0.470356 -0.008157 0.005152 -2.260487 2.799788 -5.405085 1.277487 1.028706\u001b[0m\n",
      "\u001b[30miter 0 | target 9.926 | config  0.481377 0.012742 0.018646 -1.424545 1.927879 -6.171138 5.572217 6.248536\u001b[0m\n",
      "\u001b[95miter 1 | target 1.701 | config  0.478745 0.004802 -0.008959 -1.467774 2.266773 -6.237950 5.816153 1.054985\u001b[0m\n",
      "\u001b[95miter 2 | target 1.338 | config  0.475541 -0.012994 0.002823 -1.927019 2.342498 -5.910446 6.153987 1.464906\u001b[0m\n",
      "\u001b[30miter 3 | target 26.578 | config  0.467466 -0.008085 0.017839 -1.443083 3.571736 -4.242973 6.312916 5.752793\u001b[0m\n",
      "\u001b[95miter 4 | target 0.901 | config  0.472696 0.005308 0.003134 -1.747856 2.338501 -5.762335 6.566186 2.139950\u001b[0m\n"
     ]
    }
   ],
   "source": [
    "print(f\"Run BO with rejection (skipping) of emittances with error greater than {optimize.uncertainty_lim*100:}% and NaNs\\n\")\n",
    "\n",
    "optimize.run_bo_opt_w_reject(init_pnts=3, n_iter=5); # (maximizing -1 * emittance but printed correctly here)"
   ]
  },
  {
   "cell_type": "code",
   "execution_count": 5,
   "id": "611be6f6-2297-48bf-a633-061fd2fd821c",
   "metadata": {},
   "outputs": [
    {
     "data": {
      "text/plain": [
       "       allvecs: [array([ 0.46554983,  0.01482929, -0.01173123, -1.24416728,  2.46523357,\n",
       "       -3.32953682,  5.12726285,  3.1473439 ]), array([ 0.46554983,  0.01482929, -0.01173123, -1.24416728,  2.46523357,\n",
       "       -3.49601366,  5.12726285,  3.1473439 ])]\n",
       " final_simplex: (array([[ 0.46554983,  0.01482929, -0.01173123, -1.24416728,  2.46523357,\n",
       "        -3.49601366,  5.12726285,  3.1473439 ],\n",
       "       [ 0.46554983,  0.01482929, -0.01173123, -1.29859959,  2.46523357,\n",
       "        -3.35034643,  5.12726285,  3.1473439 ],\n",
       "       [ 0.46554983,  0.01482929, -0.01173123, -1.24416728,  2.46523357,\n",
       "        -3.35034643,  5.12726285,  3.2850402 ],\n",
       "       [ 0.46554983,  0.01482929, -0.01224448, -1.24416728,  2.46523357,\n",
       "        -3.35034643,  5.12726285,  3.1473439 ],\n",
       "       [ 0.46554983,  0.01482929, -0.01173123, -1.24416728,  2.46523357,\n",
       "        -3.35034643,  5.12726285,  3.1473439 ],\n",
       "       [ 0.46554983,  0.01547807, -0.01173123, -1.24416728,  2.46523357,\n",
       "        -3.35034643,  5.12726285,  3.1473439 ],\n",
       "       [ 0.46554983,  0.01482929, -0.01173123, -1.24416728,  2.57308753,\n",
       "        -3.35034643,  5.12726285,  3.1473439 ],\n",
       "       [ 0.46554983,  0.01482929, -0.01173123, -1.24416728,  2.46523357,\n",
       "        -3.35034643,  5.3515806 ,  3.1473439 ],\n",
       "       [ 0.48256873,  0.01482929, -0.01173123, -1.24416728,  2.46523357,\n",
       "        -3.35034643,  5.12726285,  3.1473439 ]]), array([6.45591294e-06, 6.78121486e-06, 6.79447155e-06, 6.94928585e-06,\n",
       "       6.97234445e-06, 6.97788717e-06, 7.40520831e-06, 7.70409856e-06,\n",
       "       9.69859859e-06]))\n",
       "           fun: 6.4559129378716114e-06\n",
       "       message: 'Maximum number of function evaluations has been exceeded.'\n",
       "          nfev: 19\n",
       "           nit: 2\n",
       "        status: 1\n",
       "       success: False\n",
       "             x: array([ 0.46554983,  0.01482929, -0.01173123, -1.24416728,  2.46523357,\n",
       "       -3.49601366,  5.12726285,  3.1473439 ])"
      ]
     },
     "execution_count": 5,
     "metadata": {},
     "output_type": "execute_result"
    }
   ],
   "source": [
    "# simplex algorithm with bounds on the params is also available\n",
    "optimize.run_simplex_opt(10)"
   ]
  }
 ],
 "metadata": {
  "kernelspec": {
   "display_name": "Python 3",
   "language": "python",
   "name": "python3"
  },
  "language_info": {
   "codemirror_mode": {
    "name": "ipython",
    "version": 3
   },
   "file_extension": ".py",
   "mimetype": "text/x-python",
   "name": "python",
   "nbconvert_exporter": "python",
   "pygments_lexer": "ipython3",
   "version": "3.7.11"
  }
 },
 "nbformat": 4,
 "nbformat_minor": 5
}
