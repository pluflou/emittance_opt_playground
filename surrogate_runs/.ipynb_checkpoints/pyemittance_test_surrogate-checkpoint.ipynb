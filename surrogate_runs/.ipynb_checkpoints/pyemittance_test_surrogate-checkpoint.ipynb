{
 "cells": [
  {
   "cell_type": "code",
   "execution_count": 1,
   "id": "2c6f95c4-937e-4017-b72a-d437bc6dda0f",
   "metadata": {},
   "outputs": [
    {
     "name": "stderr",
     "output_type": "stream",
     "text": [
      "WARNING:root:Limited tf.compat.v2.summary API due to missing TensorBoard installation.\n",
      "WARNING:root:Limited tf.compat.v2.summary API due to missing TensorBoard installation.\n",
      "WARNING:root:Limited tf.compat.v2.summary API due to missing TensorBoard installation.\n",
      "WARNING:root:Limited tf.summary API due to missing TensorBoard installation.\n"
     ]
    },
    {
     "name": "stdout",
     "output_type": "stream",
     "text": [
      "/Users/smiskov/Documents/SLAC/emittance_opt_playground\n"
     ]
    }
   ],
   "source": [
    "import numpy as np\n",
    "from argparse import Namespace\n",
    "import matplotlib.pyplot as plt\n",
    "import tensorflow as tf\n",
    "# Suppress TF warnings\n",
    "tf.compat.v1.logging.set_verbosity(tf.compat.v1.logging.ERROR)\n",
    "\n",
    "from pyemittance.emittance_calc import EmitCalc\n",
    "from pyemittance.observer import Observer\n",
    "#from pyemittance.optics import quad_rmat_mat2, propagate_sigma\n",
    "from pyemittance.data_handler import adapt_range, check_symmetry, find_inflection_pnt, add_measurements\n",
    "\n",
    "# importing lcls surrogate model\n",
    "%cd ../\n",
    "from lcls_functions import Lcls"
   ]
  },
  {
   "cell_type": "code",
   "execution_count": 2,
   "id": "bae687de-62de-425c-af68-69d1b0b6260e",
   "metadata": {},
   "outputs": [
    {
     "name": "stdout",
     "output_type": "stream",
     "text": [
      "*Initialized Lcls with params=Namespace(beamsizes_bounds=[(0.0, 0.0005), (0.0, 0.0005)], beamsizes_bounds_norm=[(-1.0, 1.0), (-1.0, 1.0)], config_bounds=[(0.46, 0.485), (-0.01, 0.01), (-0.01, 0.01)], config_bounds_norm=[(0.0, 1.0), (0.0, 1.0), (0.0, 1.0)], emit_bounds=(5e-07, 5e-06), emit_bounds_norm=(-1.0, 1.0), energy=0.135, name='Lcls', normalize=False, quad_bounds=(-6.0, 0.0), quad_bounds_norm=(0.0, 1.0), reference_point='<reference_point>', verbose=True)\n"
     ]
    }
   ],
   "source": [
    "# Set random seed\n",
    "seed = 9\n",
    "np.random.seed(seed)\n",
    "tf.random.set_seed(seed)\n",
    "\n",
    "# Set lcls and functions\n",
    "lcls_params = Namespace(\n",
    "    config_bounds=[(0.46, 0.485), (-0.01, 0.01), (-0.01, 0.01)],\n",
    "    quad_bounds=(-6.0, 0.0),\n",
    "    beamsizes_bounds=[(0.0, 5e-4), (0.0, 5e-4)],\n",
    ")\n",
    "lcls = Lcls(params=lcls_params)\n",
    "fn = lcls.beamsizes_list_fn\n",
    "def fn_batch(x_list): return [fn(x) for x in x_list]\n",
    "\n",
    "\n",
    "def get_beamsizes_model(config, val):\n",
    "    beamsizes_list = fn(config, [val])[0]\n",
    "    xrms = beamsizes_list[0]\n",
    "    yrms = beamsizes_list[1]\n",
    "    xrms_err = xrms*0.03\n",
    "    yrms_err = yrms*0.03\n",
    "    \n",
    "    return xrms, yrms, xrms_err, yrms_err"
   ]
  },
  {
   "cell_type": "code",
   "execution_count": 3,
   "id": "7ffc36c8-99f9-4246-aa58-dd3d1bd6f82b",
   "metadata": {},
   "outputs": [],
   "source": [
    "plots = True"
   ]
  },
  {
   "cell_type": "code",
   "execution_count": 5,
   "id": "7b3954b0-d6d5-4355-beca-de2bdca7f582",
   "metadata": {},
   "outputs": [],
   "source": [
    "def evaluate(varx, vary, varz):\n",
    "    config = [varx, vary, varz]\n",
    "    quad_init =  [-5, -3, -2, 0] \n",
    "    \n",
    "    # get initial points from the observer \n",
    "    o = Observer([], {'x': [] ,'y': []}, {'x': [] ,'y': []} )\n",
    "    o.tolerance = 0.1\n",
    "    \n",
    "    # set beamsize fn for MODEL\n",
    "    o.get_beamsizes_model = get_beamsizes_model\n",
    "    o.config = config\n",
    "    o.add_noise = False\n",
    "    beamsize_x_list, beamsize_y_list, xerr, yerr = o.measure_beam(quad_init)\n",
    "    \n",
    "    \n",
    "    # get adapted range\n",
    "    new_x_range = adapt_range(quad_init, beamsize_x_list, 'x', w=xerr)\n",
    "    new_y_range = adapt_range(quad_init, beamsize_y_list, 'y', w=yerr)\n",
    "        \n",
    "    beamsize_x = o.measure_beam(new_x_range)\n",
    "    beamsize_x_list, xerr = beamsize_x[0], beamsize_x[2] \n",
    "    beamsize_y = o.measure_beam(new_y_range)\n",
    "    beamsize_y_list, yerr = beamsize_y[1], beamsize_y[3]     \n",
    "       \n",
    "    # check symmetry \n",
    "    add_points_x =  check_symmetry(new_x_range, beamsize_x_list, xerr, 'x', bs_fn=o.measure_beam, add_meas=False)\n",
    "    add_points_y =  check_symmetry(new_y_range, beamsize_y_list, yerr, 'y', bs_fn=o.measure_beam, add_meas=False)\n",
    "    \n",
    "    if add_points_x is not None:\n",
    "        add_points_x = add_measurements(add_points_x[0], add_points_x[1], new_x_range, beamsize_x_list, xerr, 'x', bs_fn=o.measure_beam)\n",
    "        new_x_range = add_points_x[0]\n",
    "        beamsize_x_list = add_points_x[1]  \n",
    "        xerr = add_points_x[2]  \n",
    "            \n",
    "    if add_points_y is not None:\n",
    "        add_points_y = add_measurements(add_points_y[0], add_points_y[1], new_y_range, beamsize_y_list, yerr, 'y', bs_fn=o.measure_beam)\n",
    "        new_y_range = add_points_y[0]\n",
    "        beamsize_y_list = add_points_y[1]  \n",
    "        yerr = add_points_y[2] \n",
    "    \n",
    "\n",
    "    # find infl points\n",
    "    left_x, right_x =  find_inflection_pnt(new_x_range, beamsize_x_list, show_plots=plots)        \n",
    "    left_y, right_y =  find_inflection_pnt(new_y_range, beamsize_y_list, show_plots=plots)\n",
    "\n",
    "    # truncate data\n",
    "    new_x_range = new_x_range[left_x:right_x]\n",
    "    beamsize_x_list = beamsize_x_list[left_x:right_x]\n",
    "    xerr = xerr[left_x:right_x]\n",
    "\n",
    "    new_y_range = new_y_range[left_y:right_y]\n",
    "    beamsize_y_list = beamsize_y_list[left_y:right_y]\n",
    "    yerr = yerr[left_y:right_y]\n",
    "        \n",
    "        \n",
    "    # finally get emittance\n",
    "    # get emittance w/ new range\n",
    "    ef = EmitCalc({ 'x': new_x_range, 'y': new_y_range},\n",
    "                  { 'x': beamsize_x_list, 'y': beamsize_y_list},\n",
    "                  { 'x': xerr, 'y': yerr}\n",
    "                 )\n",
    "                  \n",
    "    # get normalized transverse emittance\n",
    "    ef.get_emit(dim='x')\n",
    "    ef.get_emit(dim='y')\n",
    "    \n",
    "    # get geom mean of emitx and emity\n",
    "    ef.get_gmean_emit()\n",
    "        \n",
    "    return ef.out_dict\n"
   ]
  },
  {
   "cell_type": "code",
   "execution_count": 6,
   "id": "9b207b8f",
   "metadata": {},
   "outputs": [
    {
     "data": {
      "text/plain": [
       "{'nemitx': 9.025911458479198e-07,\n",
       " 'nemity': 9.533170132410908e-07,\n",
       " 'nemitx_err': 2.9272742282868837e-08,\n",
       " 'nemity_err': 2.586497037289223e-08,\n",
       " 'bmagx': None,\n",
       " 'bmagy': None,\n",
       " 'bmagx_err': None,\n",
       " 'bmagy_err': None,\n",
       " 'opt_q_x': None,\n",
       " 'opt_q_y': None,\n",
       " 'nemit': 9.276074036668706e-07,\n",
       " 'nemit_err': 3.922308701463713e-08}"
      ]
     },
     "execution_count": 6,
     "metadata": {},
     "output_type": "execute_result"
    }
   ],
   "source": [
    "evaluate(0.4762182125278053, -0.00027291415901526533, -0.0017033810831913413)"
   ]
  },
  {
   "cell_type": "code",
   "execution_count": 12,
   "id": "82c1d8cf-f26e-45a6-84da-e7c8d4697346",
   "metadata": {},
   "outputs": [
    {
     "data": {
      "image/png": "[encoded data removed]",
      "text/plain": [
       "<Figure size 432x288 with 1 Axes>"
      ]
     },
     "metadata": {
      "needs_background": "light"
     },
     "output_type": "display_data"
    },
    {
     "data": {
      "image/png": "[encoded data removed]",
      "text/plain": [
       "<Figure size 432x288 with 1 Axes>"
      ]
     },
     "metadata": {
      "needs_background": "light"
     },
     "output_type": "display_data"
    },
    {
     "data": {
      "text/plain": [
       "(0.9276074036668707, 0.03922308701463713)"
      ]
     },
     "execution_count": 12,
     "metadata": {},
     "output_type": "execute_result"
    }
   ],
   "source": [
    "#evaluate(0.4932,  0.01984  , -0.005774)\n",
    "# with ef.plots=True\n",
    "evaluate(0.4762182125278053, -0.00027291415901526533, -0.0017033810831913413)"
   ]
  },
  {
   "cell_type": "code",
   "execution_count": 9,
   "id": "484a0976-16aa-4884-847f-292be50fd90a",
   "metadata": {},
   "outputs": [
    {
     "name": "stdout",
     "output_type": "stream",
     "text": [
      "Emittance can't be computed. Returning NaN.\n",
      "Emittance can't be computed. Returning NaN.\n",
      "Emittance can't be computed. Returning NaN.\n"
     ]
    }
   ],
   "source": [
    "# Random sampling\n",
    "# Set random seed\n",
    "seed = 145\n",
    "np.random.seed(seed)\n",
    "tf.random.set_seed(seed)\n",
    "\n",
    "emit = []\n",
    "emit_err = []\n",
    "config = []\n",
    "\n",
    "# 3/1000 NaNs!\n",
    "for _ in range(1000):\n",
    "    sol = np.random.uniform(0.44, 0.5)\n",
    "    cq = np.random.uniform(-0.02, 0.02)\n",
    "    sq = np.random.uniform(-0.02, 0.02)\n",
    "    e, err = evaluate(sol, cq, sq)\n",
    "    emit.append(e)\n",
    "    emit_err.append(err)\n",
    "    config.append((sol, cq, sq))"
   ]
  },
  {
   "cell_type": "code",
   "execution_count": 10,
   "id": "1802025b-b4a6-4468-8370-9bcbce27e749",
   "metadata": {},
   "outputs": [],
   "source": [
    "emit = np.array(emit)\n",
    "emit_err = np.array(emit_err)"
   ]
  },
  {
   "cell_type": "code",
   "execution_count": 24,
   "id": "aefce747-8c91-4587-8faa-cc5c8ea77d4d",
   "metadata": {},
   "outputs": [
    {
     "data": {
      "text/plain": [
       "array([[608],\n",
       "       [697],\n",
       "       [970]])"
      ]
     },
     "execution_count": 24,
     "metadata": {},
     "output_type": "execute_result"
    }
   ],
   "source": [
    "# emit_ = emit[np.argwhere(np.isnan(emit)).flatten()]\n",
    "# emit_err_ = emit_err[np.argwhere(np.isnan(emit)).flatten()]\n",
    "np.argwhere(np.isnan(emit))"
   ]
  },
  {
   "cell_type": "code",
   "execution_count": 25,
   "id": "d0be71e8-af01-4f80-bfbf-11a009e79cca",
   "metadata": {},
   "outputs": [
    {
     "data": {
      "text/plain": [
       "(0.0, 2.0)"
      ]
     },
     "execution_count": 25,
     "metadata": {},
     "output_type": "execute_result"
    },
    {
     "data": {
      "image/png": "[encoded data removed]",
      "text/plain": [
       "<Figure size 864x576 with 1 Axes>"
      ]
     },
     "metadata": {
      "needs_background": "light"
     },
     "output_type": "display_data"
    }
   ],
   "source": [
    "plt.figure(figsize=(12,8))\n",
    "plt.errorbar(np.arange(0,1000), emit, emit_err, marker='.', linewidth=0, elinewidth=1, ecolor='red')\n",
    "plt.ylim(0,2)\n",
    "# # plt.xlim(0,50)"
   ]
  },
  {
   "cell_type": "code",
   "execution_count": 15,
   "id": "a12708f6-477f-4957-a944-f5e827d830c6",
   "metadata": {},
   "outputs": [
    {
     "data": {
      "image/png": "[encoded data removed]",
      "text/plain": [
       "<Figure size 432x288 with 1 Axes>"
      ]
     },
     "metadata": {
      "needs_background": "light"
     },
     "output_type": "display_data"
    }
   ],
   "source": [
    "plt.hist(emit, 50);\n",
    "#plt.xlim(0,1)"
   ]
  }
 ],
 "metadata": {
  "kernelspec": {
   "display_name": "Python 3",
   "language": "python",
   "name": "python3"
  },
  "language_info": {
   "codemirror_mode": {
    "name": "ipython",
    "version": 3
   },
   "file_extension": ".py",
   "mimetype": "text/x-python",
   "name": "python",
   "nbconvert_exporter": "python",
   "pygments_lexer": "ipython3",
   "version": "3.7.11"
  }
 },
 "nbformat": 4,
 "nbformat_minor": 5
}
