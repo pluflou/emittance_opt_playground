{
 "cells": [
  {
   "cell_type": "code",
   "execution_count": 1,
   "id": "c290acb9-7229-4d3e-b0e6-157d9b020963",
   "metadata": {},
   "outputs": [],
   "source": [
    "model= {\"train_input_mins\": [0.21021247820852546, 3.000000758511308, 250.0, 0.19409053333889578, -0.009999618141995313, -0.009999490058927914, 58000000.0, -24.998714513984325, 70000000.0, -24.99972566363747, 1.000039854940649, -3.990444304119449, 1.0007061999094193, -6.999887318319171, -6.998418428856965, 1.000026533968218], \"train_input_maxs\": [0.4999996083265339, 11.998569812014836, 250.0, 0.2563030896232562, 0.0099925212795954, 0.009999443099573097, 58000000.0, 9.991752397382681, 70000000.0, 9.998904767155892, 3.998197816908352, -1.0105116218007806, 6.9997773994714345, 0.9983521010385275, 0.9993010487139868, 6.998086093251312], \"model_in_list\": [\"distgen:r_dist:sigma_xy:value\", \"distgen:t_dist:length:value\", \"distgen:total_charge:value\", \"SOL1:solenoid_field_scale\", \"CQ01:b1_gradient\", \"SQ01:b1_gradient\", \"L0A_scale:voltage\", \"L0A_phase:dtheta0_deg\", \"L0B_scale:voltage\", \"L0B_phase:dtheta0_deg\", \"QA01:b1_gradient\", \"QA02:b1_gradient\", \"QE01:b1_gradient\", \"QE02:b1_gradient\", \"QE03:b1_gradient\", \"QE04:b1_gradient\"], \"model_out_list\": [\"sigma_x\", \"sigma_y\", \"sigma_z\", \"norm_emit_x\", \"norm_emit_y\"], \"loc_in\": {\"distgen:r_dist:sigma_xy:value\": 0, \"distgen:t_dist:length:value\": 1, \"distgen:total_charge:value\": 2, \"SOL1:solenoid_field_scale\": 3, \"CQ01:b1_gradient\": 4, \"SQ01:b1_gradient\": 5, \"L0A_scale:voltage\": 6, \"L0A_phase:dtheta0_deg\": 7, \"L0B_scale:voltage\": 8, \"L0B_phase:dtheta0_deg\": 9, \"QA01:b1_gradient\": 10, \"QA02:b1_gradient\": 11, \"QE01:b1_gradient\": 12, \"QE02:b1_gradient\": 13, \"QE03:b1_gradient\": 14, \"QE04:b1_gradient\": 15}, \"loc_out\": {\"sigma_x\": 0, \"sigma_y\": 1, \"sigma_z\": 2, \"norm_emit_x\": 3, \"norm_emit_y\": 4}, \"screen\": \"OTR2\", \"run\": \"v6_cnsga_\"}"
   ]
  },
  {
   "cell_type": "code",
   "execution_count": 3,
   "id": "453a388d-210d-4224-b4f2-5e59758368b0",
   "metadata": {},
   "outputs": [
    {
     "data": {
      "text/plain": [
       "[0.21021247820852546,\n",
       " 3.000000758511308,\n",
       " 250.0,\n",
       " 0.19409053333889578,\n",
       " -0.009999618141995313,\n",
       " -0.009999490058927914,\n",
       " 58000000.0,\n",
       " -24.998714513984325,\n",
       " 70000000.0,\n",
       " -24.99972566363747,\n",
       " 1.000039854940649,\n",
       " -3.990444304119449,\n",
       " 1.0007061999094193,\n",
       " -6.999887318319171,\n",
       " -6.998418428856965,\n",
       " 1.000026533968218]"
      ]
     },
     "execution_count": 3,
     "metadata": {},
     "output_type": "execute_result"
    }
   ],
   "source": [
    "model['train_input_mins']"
   ]
  },
  {
   "cell_type": "code",
   "execution_count": 16,
   "id": "f6229a28-22dd-470e-8f5d-2a24db3d0952",
   "metadata": {},
   "outputs": [
    {
     "data": {
      "text/plain": [
       "[0.4999996083265339,\n",
       " 11.998569812014836,\n",
       " 250.0,\n",
       " 0.2563030896232562,\n",
       " 0.0099925212795954,\n",
       " 0.009999443099573097,\n",
       " 58000000.0,\n",
       " 9.991752397382681,\n",
       " 70000000.0,\n",
       " 9.998904767155892,\n",
       " 3.998197816908352,\n",
       " -1.0105116218007806,\n",
       " 6.9997773994714345,\n",
       " 0.9983521010385275,\n",
       " 0.9993010487139868,\n",
       " 6.998086093251312]"
      ]
     },
     "execution_count": 16,
     "metadata": {},
     "output_type": "execute_result"
    }
   ],
   "source": [
    "model['train_input_maxs']"
   ]
  },
  {
   "cell_type": "code",
   "execution_count": 5,
   "id": "05cea1d4-bf1c-47c3-afa2-cfe8323472b9",
   "metadata": {},
   "outputs": [],
   "source": [
    "pv = {\"pv_to_sim_factor\": {\"IRIS:LR20:130:CONFG_SEL\": 0.3333333, \"SOLN:IN20:121:BDES\": 0.51427242, \"QUAD:IN20:121:BDES\": -0.476190476, \"QUAD:IN20:122:BDES\": -0.476190476, \"ACCL:IN20:300:L0A_PDES\": 1, \"ACCL:IN20:400:L0B_PDES\": 1, \"ACCL:IN20:300:L0A_ADES\": 1000000, \"ACCL:IN20:400:L0B_ADES\": 1000000, \"QUAD:IN20:361:BDES\": -0.925925926, \"QUAD:IN20:371:BDES\": -0.925925926, \"QUAD:IN20:425:BDES\": -0.925925926, \"QUAD:IN20:441:BDES\": -0.925925926, \"QUAD:IN20:511:BDES\": -0.925925926, \"QUAD:IN20:525:BDES\": -0.925925926, \"Charge\": 1, \"Pulse_length\": 1.65}, \"pv_unit\": {\"IRIS:LR20:130:CONFG_SEL\": \"(mm)\", \"SOLN:IN20:121:BDES\": \"(kG*m)\", \"QUAD:IN20:121:BDES\": \"(kG)\", \"QUAD:IN20:122:BDES\": \"(kG)\", \"ACCL:IN20:300:L0A_PDES\": \"(deg)\", \"ACCL:IN20:400:L0B_PDES\": \"(deg)\", \"ACCL:IN20:300:L0A_ADES\": \"(MV)\", \"ACCL:IN20:400:L0B_ADES\": \"(MV)\", \"QUAD:IN20:361:BDES\": \"(kG)\", \"QUAD:IN20:371:BDES\": \"(kG)\", \"QUAD:IN20:425:BDES\": \"(kG)\", \"QUAD:IN20:441:BDES\": \"(kG)\", \"QUAD:IN20:511:BDES\": \"(kG)\", \"QUAD:IN20:525:BDES\": \"(kG)\", \"Pulse_length\": \"(ps)\"}, \"pv_name_to_sim_name\": {\"IRIS:LR20:130:CONFG_SEL\": \"distgen:r_dist:sigma_xy:value\", \"SOLN:IN20:121:BDES\": \"SOL1:solenoid_field_scale\", \"QUAD:IN20:121:BDES\": \"CQ01:b1_gradient\", \"QUAD:IN20:122:BDES\": \"SQ01:b1_gradient\", \"ACCL:IN20:300:L0A_PDES\": \"L0A_phase:dtheta0_deg\", \"ACCL:IN20:400:L0B_PDES\": \"L0B_phase:dtheta0_deg\", \"ACCL:IN20:300:L0A_ADES\": \"L0A_scale:voltage\", \"ACCL:IN20:400:L0B_ADES\": \"L0B_scale:voltage\", \"QUAD:IN20:361:BDES\": \"QA01:b1_gradient\", \"QUAD:IN20:371:BDES\": \"QA02:b1_gradient\", \"QUAD:IN20:425:BDES\": \"QE01:b1_gradient\", \"QUAD:IN20:441:BDES\": \"QE02:b1_gradient\", \"QUAD:IN20:511:BDES\": \"QE03:b1_gradient\", \"QUAD:IN20:525:BDES\": \"QE04:b1_gradient\", \"Pulse_length\": \"distgen:t_dist:length:value\", \"Charge\": \"distgen:total_charge:value\"}, \"sim_name_to_pv_name\": {\"distgen:r_dist:sigma_xy:value\": \"IRIS:LR20:130:CONFG_SEL\", \"SOL1:solenoid_field_scale\": \"SOLN:IN20:121:BDES\", \"CQ01:b1_gradient\": \"QUAD:IN20:121:BDES\", \"SQ01:b1_gradient\": \"QUAD:IN20:122:BDES\", \"L0A_phase:dtheta0_deg\": \"ACCL:IN20:300:L0A_PDES\", \"L0B_phase:dtheta0_deg\": \"ACCL:IN20:400:L0B_PDES\", \"L0A_scale:voltage\": \"ACCL:IN20:300:L0A_ADES\", \"L0B_scale:voltage\": \"ACCL:IN20:400:L0B_ADES\", \"QA01:b1_gradient\": \"QUAD:IN20:361:BDES\", \"QA02:b1_gradient\": \"QUAD:IN20:371:BDES\", \"QE01:b1_gradient\": \"QUAD:IN20:425:BDES\", \"QE02:b1_gradient\": \"QUAD:IN20:441:BDES\", \"QE03:b1_gradient\": \"QUAD:IN20:511:BDES\", \"QE04:b1_gradient\": \"QUAD:IN20:525:BDES\", \"distgen:t_dist:length:value\": \"Pulse_length\", \"distgen:total_charge:value\": \"Charge\"}, \"sim_to_pv_factor\": {\"distgen:r_dist:sigma_xy:value\": 3.00000030000003, \"SOL1:solenoid_field_scale\": 1.9444947096326886, \"CQ01:b1_gradient\": -2.10000000084, \"SQ01:b1_gradient\": -2.10000000084, \"L0A_phase:dtheta0_deg\": 1.0, \"L0B_phase:dtheta0_deg\": 1.0, \"L0A_scale:voltage\": 1e-06, \"L0B_scale:voltage\": 1e-06, \"QA01:b1_gradient\": -1.0799999999136, \"QA02:b1_gradient\": -1.0799999999136, \"QE01:b1_gradient\": -1.0799999999136, \"QE02:b1_gradient\": -1.0799999999136, \"QE03:b1_gradient\": -1.0799999999136, \"QE04:b1_gradient\": -1.0799999999136, \"distgen:t_dist:length:value\": 0.6060606060606061, \"distgen:total_charge:value\": 1.0}}"
   ]
  },
  {
   "cell_type": "code",
   "execution_count": 6,
   "id": "96ec2bb2-ea82-4d15-bc96-eab03f748753",
   "metadata": {},
   "outputs": [
    {
     "data": {
      "text/plain": [
       "dict_keys(['pv_to_sim_factor', 'pv_unit', 'pv_name_to_sim_name', 'sim_name_to_pv_name', 'sim_to_pv_factor'])"
      ]
     },
     "execution_count": 6,
     "metadata": {},
     "output_type": "execute_result"
    }
   ],
   "source": [
    "pv.keys()"
   ]
  },
  {
   "cell_type": "code",
   "execution_count": 15,
   "id": "63643185-ca9a-4b19-bed1-39efa5221278",
   "metadata": {},
   "outputs": [
    {
     "name": "stdout",
     "output_type": "stream",
     "text": [
      "distgen:r_dist:sigma_xy:value 0.6306374976893262 1.4999989749794993\n",
      "SOL1:solenoid_field_scale 5.833485603819291 23.33115552262133\n",
      "CQ01:b1_gradient -525.00000021 -525.00000021\n",
      "SQ01:b1_gradient -0.40759012017471724 -0.5382364884241326\n",
      "L0A_phase:dtheta0_deg -0.009999618141995313 0.0099925212795954\n",
      "L0B_phase:dtheta0_deg -0.009999490058927914 0.009999443099573097\n",
      "L0A_scale:voltage 58.0 58.0\n",
      "L0B_scale:voltage -2.4998714513984322e-05 9.991752397382682e-06\n",
      "QA01:b1_gradient -75599999.993952 -75599999.993952\n",
      "QA02:b1_gradient 26.999703714568493 -10.798817147664458\n",
      "QE01:b1_gradient -1.0800430432494976 -4.318053641915576\n",
      "QE02:b1_gradient 4.30967984810423 1.0913525514575348\n",
      "QE03:b1_gradient -1.080762695815712 -7.559759590824369\n",
      "QE04:b1_gradient 7.559878303179915 -1.0782202690353522\n",
      "distgen:t_dist:length:value -4.241465714458767 0.6056369992205981\n",
      "distgen:total_charge:value 1.000026533968218 6.998086093251312\n"
     ]
    }
   ],
   "source": [
    "for i,key in enumerate(pv['sim_to_pv_factor'].keys()):\n",
    "    min_ = pv['sim_to_pv_factor'][key]*model['train_input_mins'][i]    \n",
    "    max_ = pv['sim_to_pv_factor'][key]*model['train_input_maxs'][i]\n",
    "    print(key, min_, max_)"
   ]
  },
  {
   "cell_type": "code",
   "execution_count": null,
   "id": "d473896d-3dc4-42ef-b207-c933df5a7b3c",
   "metadata": {},
   "outputs": [],
   "source": []
  }
 ],
 "metadata": {
  "kernelspec": {
   "display_name": "Python 3 (ipykernel)",
   "language": "python",
   "name": "python3"
  },
  "language_info": {
   "codemirror_mode": {
    "name": "ipython",
    "version": 3
   },
   "file_extension": ".py",
   "mimetype": "text/x-python",
   "name": "python",
   "nbconvert_exporter": "python",
   "pygments_lexer": "ipython3",
   "version": "3.9.13"
  }
 },
 "nbformat": 4,
 "nbformat_minor": 5
}
